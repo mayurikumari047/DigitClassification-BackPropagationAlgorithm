{
 "cells": [
  {
   "cell_type": "code",
   "execution_count": 1,
   "metadata": {},
   "outputs": [],
   "source": [
    "import numpy as np\n",
    "import random\n",
    "import struct\n",
    "import math\n",
    "import matplotlib.pylab as pylab"
   ]
  },
  {
   "cell_type": "code",
   "execution_count": 2,
   "metadata": {},
   "outputs": [],
   "source": [
    "def plot_epoch_vs_MSE_training_set(epoch_array, last_epoch, mse_array):\n",
    "    pylab.title(\"Epoch VS Energy function for Training Set\")\n",
    "    pylab.plot(epoch_array, mse_array, 'o-')\n",
    "    pylab.xlim(0, last_epoch + 1)\n",
    "    pylab.show()\n",
    "\n",
    "\n",
    "def plot_epoch_vs_error_graph(epoch_array, last_epoch, error_array):\n",
    "    pylab.title(\"Epoch VS Classification error\")\n",
    "    pylab.plot(epoch_array, error_array, 'o-')\n",
    "    pylab.xlim(0, last_epoch + 1)\n",
    "    pylab.show()\n",
    "\n",
    "\n",
    "def plot_epoch_vs_energy_function_for_test_set(X, Y):\n",
    "    pylab.title(\"Epoch VS Energy function for Test Set\")\n",
    "    pylab.plot(X, Y, 'ro')\n",
    "    pylab.show()"
   ]
  },
  {
   "cell_type": "code",
   "execution_count": 3,
   "metadata": {},
   "outputs": [],
   "source": [
    "def generate_weight_matrix(n, m, r_start, r_end):\n",
    "    weights = np.zeros((n,m))\n",
    "    for i in range(n):\n",
    "        for j in range(m):\n",
    "            weights[i][j] = random.uniform(r_start, r_end)\n",
    "    return weights"
   ]
  },
  {
   "cell_type": "code",
   "execution_count": 4,
   "metadata": {},
   "outputs": [],
   "source": [
    "def train_network(H_L_N_Num, O_L_N_Num, eta, hidden_l_neuron_weights, output_l_neuron_weights):\n",
    "\n",
    "    epoch = 0\n",
    "    data_set_size = 60000\n",
    "    print(\"Training data size:\",data_set_size)\n",
    "    epochs_array = []\n",
    "    error_array = []\n",
    "    mse_array = []\n",
    "    x = np.zeros((1, 784))\n",
    "    while (True):\n",
    "        error = 0\n",
    "        mse = 0\n",
    "        misclassification_error = 0\n",
    "        # start of training data set iteration and processing\n",
    "\n",
    "        train_img = open('train-images.idx3-ubyte', 'rb')\n",
    "        for i in range(4):\n",
    "            train_img.read(4)\n",
    "        train_lbl = open('train-labels.idx1-ubyte', 'rb')\n",
    "        for i in range(2):\n",
    "            train_lbl.read(4)\n",
    "\n",
    "        for i in range(data_set_size):\n",
    "            # print(\"iteration count:\", i)\n",
    "            for p in range(784):\n",
    "                x[0][p] = struct.unpack('>B', train_img.read(1))[0]\n",
    "                x[0][p] = x[0][p] / 256\n",
    "            d = struct.unpack('>B', train_lbl.read(1))[0]\n",
    "            D = np.zeros((10, 1))\n",
    "            D[d][0] = 1\n",
    "            x = np.transpose(x)\n",
    "            Z = np.zeros((50, 1))\n",
    "\n",
    "            V = np.dot(hidden_l_neuron_weights, x)\n",
    "            for i in range(H_L_N_Num):\n",
    "                Z[i][0] = np.tanh(V[i][0])\n",
    "            Y = np.zeros((10, 1))\n",
    "            DELTA_2 = np.zeros((10, 1))\n",
    "            DELTA_1 = np.zeros((50, 1))\n",
    "            V_out = np.zeros((10, 1))\n",
    "            V_out = np.dot(output_l_neuron_weights, Z)\n",
    "            for i in range(O_L_N_Num):\n",
    "                Y[i][0] = np.tanh(V_out[i][0])\n",
    "            y = np.argmax(Y)\n",
    "            D_minus_Y = np.subtract(D, Y)\n",
    "            for i in range(O_L_N_Num):\n",
    "                transfer_derivative = (1 - math.pow((math.tanh(V_out[i][0])), 2))\n",
    "                DELTA_2[i][0] = -2 * transfer_derivative * D_minus_Y[i][0]\n",
    "\n",
    "            DELTA2_mul_W_out = np.dot(np.transpose(output_l_neuron_weights), DELTA_2)\n",
    "            for i in range(H_L_N_Num):\n",
    "                transfer_derivative = (1 - math.pow((math.tanh(V[i][0])), 2))\n",
    "                DELTA_1[i][0] = transfer_derivative * DELTA2_mul_W_out[i][0]\n",
    "            x = np.transpose(x)\n",
    "            output_l_neuron_weights = output_l_neuron_weights - (eta * np.dot(DELTA_2, np.transpose(Z)))\n",
    "            hidden_l_neuron_weights = hidden_l_neuron_weights - (eta * np.dot(DELTA_1, x))\n",
    "            if d != y:\n",
    "                error = error + 1\n",
    "                mse = mse + math.pow((d - y), 2)\n",
    "        # end of for loop\n",
    "        epoch = epoch + 1\n",
    "        epochs_array.append(epoch)\n",
    "        print(\"epoch:\", epoch)\n",
    "        if error > misclassification_error:\n",
    "            eta = eta * 0.9\n",
    "        misclassification_error = error\n",
    "        print(\"Total classification error:\", misclassification_error)\n",
    "        error_array.append(misclassification_error)\n",
    "        MSE = mse / data_set_size\n",
    "        mse_array.append(MSE)\n",
    "        print(\"MSE: \", MSE, \" Error rate:\", (error / data_set_size))\n",
    "        success_rate = 100 - ((error / data_set_size)*100)\n",
    "        print(\"Success rate:\",success_rate)\n",
    "        if (error / data_set_size) < 0.055:\n",
    "            break  # break the while loop\n",
    "\n",
    "    plot_epoch_vs_error_graph(epochs_array, epoch, error_array)\n",
    "    plot_epoch_vs_MSE_training_set(epochs_array, epoch, mse_array)\n",
    "    return hidden_l_neuron_weights, output_l_neuron_weights"
   ]
  },
  {
   "cell_type": "code",
   "execution_count": 9,
   "metadata": {},
   "outputs": [],
   "source": [
    "def test_network(H_L_N_Num, O_L_N_Num, eta, hidden_l_neuron_weights, output_l_neuron_weights):\n",
    "\n",
    "    epoch = 0\n",
    "    data_set_size = 10000\n",
    "    print(\"Test data size:\",10000)\n",
    "    epochs_array = []\n",
    "    error_array = []\n",
    "    mse_array = []\n",
    "    x = np.zeros((1, 784))\n",
    "    error = 0\n",
    "    mse = 0\n",
    "    print(\"Testing on the test data\")\n",
    "\n",
    "    test_img = open('t10k-images.idx3-ubyte', 'rb')\n",
    "    for i in range(4):\n",
    "        test_img.read(4)\n",
    "    test_lbl = open('t10k-labels.idx1-ubyte', 'rb')\n",
    "    for i in range(2):\n",
    "        test_lbl.read(4)\n",
    "\n",
    "    for i in range(data_set_size):\n",
    "        for p in range(784):\n",
    "            x[0][p] = struct.unpack('>B', test_img.read(1))[0]\n",
    "            x[0][p] = x[0][p] / 256\n",
    "        d = struct.unpack('>B', test_lbl.read(1))[0]\n",
    "        D = np.zeros((10, 1))\n",
    "        D[d][0] = 1\n",
    "        x = np.transpose(x)\n",
    "        Z = np.zeros((50, 1))\n",
    "        V = np.dot(hidden_l_neuron_weights, x)\n",
    "        for i in range(H_L_N_Num):\n",
    "            Z[i][0] = np.tanh(V[i][0])\n",
    "        Y = np.zeros((10, 1))\n",
    "        V_out = np.dot(output_l_neuron_weights, Z)\n",
    "        for i in range(O_L_N_Num):\n",
    "            Y[i][0] = np.tanh(V_out[i][0])\n",
    "        y = np.argmax(Y)\n",
    "        x = np.transpose(x)\n",
    "        if d != y:\n",
    "            error = error + 1\n",
    "            mse = mse + math.pow((d - y), 2)\n",
    "    # end of for loop\n",
    "    epoch = epoch + 1\n",
    "    epochs_array.append(epoch)\n",
    "    print(\"epoch:\", epoch)\n",
    "    misclassification_error = error\n",
    "    print(\"Total test data classification error:\", misclassification_error)\n",
    "    error_array.append(misclassification_error)\n",
    "    MSE = mse / data_set_size\n",
    "    mse_array.append(MSE)\n",
    "    print(\"Test data set MSE: \", MSE)\n",
    "    print(\"Test data success rate:\", (100 - (error / data_set_size)*100))\n",
    "    #plot_epoch_vs_error_graph(epochs_array, epoch, error_array)\n",
    "    #plot_epoch_vs_MSE_training_set(epochs_array, epoch, mse_array)"
   ]
  },
  {
   "cell_type": "code",
   "execution_count": 6,
   "metadata": {},
   "outputs": [
    {
     "name": "stdout",
     "output_type": "stream",
     "text": [
      "eta: 0.01\n",
      "H_L_N_Num: 50\n",
      "O_L_N_Num: 10\n"
     ]
    }
   ],
   "source": [
    "H_L_N_Num = 50\n",
    "O_L_N_Num = 10\n",
    "eta = 0.01\n",
    "print(\"eta:\",eta)\n",
    "print(\"H_L_N_Num:\", H_L_N_Num)\n",
    "print(\"O_L_N_Num:\", O_L_N_Num)\n",
    "\n",
    "hidden_l_neuron_weights = generate_weight_matrix(H_L_N_Num, 784, -0.1, 0.1)\n",
    "output_l_neuron_weights = generate_weight_matrix(O_L_N_Num, H_L_N_Num, -0.1, 0.1)"
   ]
  },
  {
   "cell_type": "code",
   "execution_count": 7,
   "metadata": {},
   "outputs": [
    {
     "name": "stdout",
     "output_type": "stream",
     "text": [
      "Training data size: 60000\n",
      "epoch: 1\n",
      "Total classification error: 6309\n",
      "MSE:  1.8425666666666667  Error rate: 0.10515\n",
      "Success rate: 89.485\n",
      "epoch: 2\n",
      "Total classification error: 4827\n",
      "MSE:  1.417  Error rate: 0.08045\n",
      "Success rate: 91.955\n",
      "epoch: 3\n",
      "Total classification error: 4437\n",
      "MSE:  1.3000666666666667  Error rate: 0.07395\n",
      "Success rate: 92.605\n",
      "epoch: 4\n",
      "Total classification error: 4219\n",
      "MSE:  1.2466333333333333  Error rate: 0.07031666666666667\n",
      "Success rate: 92.96833333333333\n",
      "epoch: 5\n",
      "Total classification error: 4057\n",
      "MSE:  1.2083333333333333  Error rate: 0.06761666666666667\n",
      "Success rate: 93.23833333333333\n",
      "epoch: 6\n",
      "Total classification error: 3900\n",
      "MSE:  1.1685833333333333  Error rate: 0.065\n",
      "Success rate: 93.5\n",
      "epoch: 7\n",
      "Total classification error: 3796\n",
      "MSE:  1.1321  Error rate: 0.06326666666666667\n",
      "Success rate: 93.67333333333333\n",
      "epoch: 8\n",
      "Total classification error: 3706\n",
      "MSE:  1.1027333333333333  Error rate: 0.061766666666666664\n",
      "Success rate: 93.82333333333334\n",
      "epoch: 9\n",
      "Total classification error: 3637\n",
      "MSE:  1.0775  Error rate: 0.060616666666666666\n",
      "Success rate: 93.93833333333333\n",
      "epoch: 10\n",
      "Total classification error: 3573\n",
      "MSE:  1.0559166666666666  Error rate: 0.05955\n",
      "Success rate: 94.045\n",
      "epoch: 11\n",
      "Total classification error: 3522\n",
      "MSE:  1.04705  Error rate: 0.0587\n",
      "Success rate: 94.13\n",
      "epoch: 12\n",
      "Total classification error: 3476\n",
      "MSE:  1.03475  Error rate: 0.05793333333333334\n",
      "Success rate: 94.20666666666666\n",
      "epoch: 13\n",
      "Total classification error: 3417\n",
      "MSE:  1.02045  Error rate: 0.05695\n",
      "Success rate: 94.305\n",
      "epoch: 14\n",
      "Total classification error: 3368\n",
      "MSE:  1.0102833333333334  Error rate: 0.056133333333333334\n",
      "Success rate: 94.38666666666667\n",
      "epoch: 15\n",
      "Total classification error: 3332\n",
      "MSE:  1.0033666666666667  Error rate: 0.05553333333333333\n",
      "Success rate: 94.44666666666667\n",
      "epoch: 16\n",
      "Total classification error: 3300\n",
      "MSE:  0.9965166666666667  Error rate: 0.055\n",
      "Success rate: 94.5\n",
      "epoch: 17\n",
      "Total classification error: 3268\n",
      "MSE:  0.9926333333333334  Error rate: 0.05446666666666666\n",
      "Success rate: 94.55333333333333\n"
     ]
    },
    {
     "data": {
      "image/png": "[encoded data removed]",
      "text/plain": [
       "<Figure size 432x288 with 1 Axes>"
      ]
     },
     "metadata": {},
     "output_type": "display_data"
    },
    {
     "data": {
      "image/png": "[encoded data removed]",
      "text/plain": [
       "<Figure size 432x288 with 1 Axes>"
      ]
     },
     "metadata": {},
     "output_type": "display_data"
    }
   ],
   "source": [
    "updated_hidden_l_neuron_weights, updated_output_l_neuron_weights = train_network(H_L_N_Num, O_L_N_Num, eta, hidden_l_neuron_weights, output_l_neuron_weights)"
   ]
  },
  {
   "cell_type": "code",
   "execution_count": 10,
   "metadata": {},
   "outputs": [
    {
     "name": "stdout",
     "output_type": "stream",
     "text": [
      "Test data size: 10000\n",
      "Testing on the test data\n",
      "epoch: 1\n",
      "Total test data classification error: 619\n",
      "Test data set MSE:  1.1304\n",
      "Test data success rate: 93.81\n"
     ]
    }
   ],
   "source": [
    "test_network(H_L_N_Num, O_L_N_Num, eta, updated_hidden_l_neuron_weights, updated_output_l_neuron_weights)"
   ]
  },
  {
   "cell_type": "code",
   "execution_count": null,
   "metadata": {},
   "outputs": [],
   "source": []
  }
 ],
 "metadata": {
  "kernelspec": {
   "display_name": "Python 3",
   "language": "python",
   "name": "python3"
  },
  "language_info": {
   "codemirror_mode": {
    "name": "ipython",
    "version": 3
   },
   "file_extension": ".py",
   "mimetype": "text/x-python",
   "name": "python",
   "nbconvert_exporter": "python",
   "pygments_lexer": "ipython3",
   "version": "3.6.5"
  }
 },
 "nbformat": 4,
 "nbformat_minor": 2
}
